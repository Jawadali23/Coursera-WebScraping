{
 "cells": [
  {
   "cell_type": "markdown",
   "metadata": {},
   "source": [
    "# Find elements inside HTML pages\n",
    "\n",
    "Reference notebook for the first task of the Web Scraping with Python and BeautifulSoup on Coursera.\n",
    "\n",
    "Instructor: Danilo Lessa Bernardineli (danilo.bernardineli@usp.br)"
   ]
  },
  {
   "cell_type": "code",
   "execution_count": 1,
   "metadata": {},
   "outputs": [],
   "source": [
    "import requests as req\n",
    "from bs4 import BeautifulSoup"
   ]
  },
  {
   "cell_type": "code",
   "execution_count": 2,
   "metadata": {},
   "outputs": [],
   "source": [
    "URL = 'https://danlessa.github.io/bio/'\n",
    "r = req.get(URL)\n",
    "soup = BeautifulSoup(r.content)"
   ]
  },
  {
   "cell_type": "code",
   "execution_count": 21,
   "metadata": {},
   "outputs": [
    {
     "data": {
      "text/plain": [
       "<div class=\"container\"> <h1 class=\"logo\"><a href=\"https://danlessa.github.io/\">dan<span>lessa</span></a></h1> <ul class=\"navbar\"> <li><a href=\"/\">Home</a></li> <li><a href=\"/blog/\">Blog</a></li> <li><a href=\"/bio/\">Bio</a></li> <li><a href=\"/favorites/\">Favs</a></li> <li><a href=\"/documents/\">Docs</a></li> <li><a href=\"/status/\">Status</a></li> </ul> </div>"
      ]
     },
     "execution_count": 21,
     "metadata": {},
     "output_type": "execute_result"
    }
   ],
   "source": [
    "soup.div"
   ]
  },
  {
   "cell_type": "code",
   "execution_count": 22,
   "metadata": {},
   "outputs": [
    {
     "data": {
      "text/plain": [
       "<h1 class=\"logo\"><a href=\"https://danlessa.github.io/\">dan<span>lessa</span></a></h1>"
      ]
     },
     "execution_count": 22,
     "metadata": {},
     "output_type": "execute_result"
    }
   ],
   "source": [
    "soup.h1"
   ]
  },
  {
   "cell_type": "code",
   "execution_count": 23,
   "metadata": {},
   "outputs": [
    {
     "data": {
      "text/plain": [
       "<div class=\"container\"> <h1 class=\"logo\"><a href=\"https://danlessa.github.io/\">dan<span>lessa</span></a></h1> <ul class=\"navbar\"> <li><a href=\"/\">Home</a></li> <li><a href=\"/blog/\">Blog</a></li> <li><a href=\"/bio/\">Bio</a></li> <li><a href=\"/favorites/\">Favs</a></li> <li><a href=\"/documents/\">Docs</a></li> <li><a href=\"/status/\">Status</a></li> </ul> </div>"
      ]
     },
     "execution_count": 23,
     "metadata": {},
     "output_type": "execute_result"
    }
   ],
   "source": [
    "soup.h1.parent"
   ]
  },
  {
   "cell_type": "code",
   "execution_count": 20,
   "metadata": {},
   "outputs": [
    {
     "data": {
      "text/plain": [
       "<h1 class=\"logo\"><a href=\"https://danlessa.github.io/\">dan<span>lessa</span></a></h1>"
      ]
     },
     "execution_count": 20,
     "metadata": {},
     "output_type": "execute_result"
    }
   ],
   "source": [
    "list(soup.div.children)[1]"
   ]
  },
  {
   "cell_type": "code",
   "execution_count": 12,
   "metadata": {},
   "outputs": [
    {
     "data": {
      "text/plain": [
       "<div class=\"container\"> <h1 class=\"logo\"><a href=\"https://danlessa.github.io/\">dan<span>lessa</span></a></h1> <ul class=\"navbar\"> <li><a href=\"/\">Home</a></li> <li><a href=\"/blog/\">Blog</a></li> <li><a href=\"/bio/\">Bio</a></li> <li><a href=\"/favorites/\">Favs</a></li> <li><a href=\"/documents/\">Docs</a></li> <li><a href=\"/status/\">Status</a></li> </ul> </div>"
      ]
     },
     "execution_count": 12,
     "metadata": {},
     "output_type": "execute_result"
    }
   ],
   "source": [
    "soup.find('div')"
   ]
  },
  {
   "cell_type": "code",
   "execution_count": 15,
   "metadata": {},
   "outputs": [
    {
     "data": {
      "text/plain": [
       "[<h2 id=\"interests\">Interests</h2>,\n",
       " <h2 id=\"skillset\">Skillset</h2>,\n",
       " <h2 id=\"professional-experience\">Professional Experience</h2>,\n",
       " <h2 id=\"voluntary-experience\">Voluntary Experience</h2>,\n",
       " <h2 id=\"education\">Education</h2>,\n",
       " <h2 id=\"projects\">Projects</h2>,\n",
       " <h2 id=\"associations\">Associations</h2>,\n",
       " <h2 id=\"miscellaneous\">Miscellaneous</h2>]"
      ]
     },
     "execution_count": 15,
     "metadata": {},
     "output_type": "execute_result"
    }
   ],
   "source": [
    "soup.find_all('h2')"
   ]
  },
  {
   "cell_type": "code",
   "execution_count": null,
   "metadata": {},
   "outputs": [],
   "source": []
  }
 ],
 "metadata": {
  "kernelspec": {
   "display_name": "Python 3",
   "language": "python",
   "name": "python3"
  },
  "language_info": {
   "codemirror_mode": {
    "name": "ipython",
    "version": 3
   },
   "file_extension": ".py",
   "mimetype": "text/x-python",
   "name": "python",
   "nbconvert_exporter": "python",
   "pygments_lexer": "ipython3",
   "version": "3.7.6"
  }
 },
 "nbformat": 4,
 "nbformat_minor": 4
}
